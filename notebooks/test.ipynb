{
 "cells": [
  {
   "cell_type": "code",
   "execution_count": 1,
   "metadata": {},
   "outputs": [
    {
     "name": "stdout",
     "output_type": "stream",
     "text": [
      "/Users/janos/Work/fiit/nndemo\n"
     ]
    }
   ],
   "source": [
    "%cd .."
   ]
  },
  {
   "cell_type": "code",
   "execution_count": 2,
   "metadata": {},
   "outputs": [],
   "source": [
    "import torch\n",
    "import torch.nn as nn\n",
    "from argparse import Namespace\n",
    "\n",
    "from project.datamodule import DataModule\n",
    "from project.trainer import Trainer"
   ]
  },
  {
   "cell_type": "code",
   "execution_count": 3,
   "metadata": {},
   "outputs": [],
   "source": [
    "# Create the model\n",
    "class MultiLayerPerceptron(nn.Module):\n",
    "  def __init__(self, nin, nhidden, nout):\n",
    "    super().__init__()\n",
    "    self.main = nn.Sequential(\n",
    "        # Flatten into simple feature vectors\n",
    "        nn.Flatten(),\n",
    "        nn.Linear(nin, nhidden),\n",
    "        nn.ReLU(),\n",
    "        nn.Linear(nhidden, nout)\n",
    "        # Removed sigmoid\n",
    "    )\n",
    "\n",
    "  def forward(self, x):\n",
    "    # Our model now returns logits!\n",
    "    logits = self.main(x)\n",
    "    return logits"
   ]
  },
  {
   "cell_type": "code",
   "execution_count": 4,
   "metadata": {},
   "outputs": [
    {
     "name": "stderr",
     "output_type": "stream",
     "text": [
      "Train: 0 : 100%|██████████| 3750/3750 [00:06<00:00, 551.63it/s, loss_train=0.255]\n",
      "Val: 0 : 100%|██████████| 625/625 [00:02<00:00, 285.36it/s, loss_val=0.123]\n",
      "Train: 1 : 100%|██████████| 3750/3750 [00:06<00:00, 571.17it/s, loss_train=0.103]\n",
      "Val: 1 : 100%|██████████| 625/625 [00:01<00:00, 314.79it/s, loss_val=0.0833]\n",
      "Train: 2 : 100%|██████████| 3750/3750 [00:06<00:00, 577.39it/s, loss_train=0.0693]\n",
      "Val: 2 : 100%|██████████| 625/625 [00:01<00:00, 318.49it/s, loss_val=0.0818]\n"
     ]
    }
   ],
   "source": [
    "cfg = Namespace(\n",
    "        # Data module params\n",
    "        batch_size = 16,\n",
    "        num_workers = 2,\n",
    "\n",
    "        # Training params\n",
    "        max_epochs = 3,\n",
    "        learning_rate = 0.1,\n",
    "\n",
    "        # Model params\n",
    "        num_hidden = 512\n",
    "    )\n",
    "\n",
    "model = MultiLayerPerceptron(28*28, cfg.num_hidden, 10)\n",
    "\n",
    "# Create trainer & go go !\n",
    "trainer = Trainer(cfg, model)\n",
    "trainer.setup(DataModule())\n",
    "trainer.fit()"
   ]
  }
 ],
 "metadata": {
  "kernelspec": {
   "display_name": ".venv",
   "language": "python",
   "name": "python3"
  },
  "language_info": {
   "codemirror_mode": {
    "name": "ipython",
    "version": 3
   },
   "file_extension": ".py",
   "mimetype": "text/x-python",
   "name": "python",
   "nbconvert_exporter": "python",
   "pygments_lexer": "ipython3",
   "version": "3.10.12"
  }
 },
 "nbformat": 4,
 "nbformat_minor": 2
}
